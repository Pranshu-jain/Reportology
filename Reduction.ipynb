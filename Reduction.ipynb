{
 "cells": [
  {
   "cell_type": "code",
   "execution_count": 2,
   "metadata": {
    "collapsed": true
   },
   "outputs": [],
   "source": [
    "import re, pdb, sys, math\n",
    "from collections import defaultdict"
   ]
  },
  {
   "cell_type": "code",
   "execution_count": 3,
   "metadata": {
    "collapsed": true
   },
   "outputs": [],
   "source": [
    "class Graph:\n",
    "    def __init__(self):\n",
    "        self.Vertices = []\n",
    "        self.Edges = []\n",
    "\n",
    "    def getRankedVertices(self):\n",
    "        res = defaultdict(float)\n",
    "        for e in self.Edges:\n",
    "            res[e.Vertex1] += e.Weight\n",
    "        return sorted(res.items(), key=lambda x: x[1], reverse=True)"
   ]
  },
  {
   "cell_type": "code",
   "execution_count": 4,
   "metadata": {
    "collapsed": true
   },
   "outputs": [],
   "source": [
    "class Vertex:\n",
    "    def __init__(self):\n",
    "        self.Sentence = None"
   ]
  },
  {
   "cell_type": "code",
   "execution_count": 5,
   "metadata": {
    "collapsed": true
   },
   "outputs": [],
   "source": [
    "class Edge:\n",
    "    def __init__(self):\n",
    "        self.Vertex1 = None\n",
    "        self.Vertex2 = None\n",
    "        self.Weight = 0"
   ]
  },
  {
   "cell_type": "code",
   "execution_count": 6,
   "metadata": {
    "collapsed": true
   },
   "outputs": [],
   "source": [
    "class WordType:\n",
    "    Content=0\n",
    "    Function=1\n",
    "    ContentPunctuation=2\n",
    "    FunctionPunctuation=3"
   ]
  },
  {
   "cell_type": "code",
   "execution_count": 7,
   "metadata": {
    "collapsed": true
   },
   "outputs": [],
   "source": [
    "class Word:\n",
    "    def __init__(self):\n",
    "        self.Text=''\n",
    "        self.Type=''"
   ]
  },
  {
   "cell_type": "code",
   "execution_count": 8,
   "metadata": {
    "collapsed": true
   },
   "outputs": [],
   "source": [
    "class Sentence:\n",
    "    def __init__(self):\n",
    "        self.Words = []\n",
    "\n",
    "    def getFullSentence(self):\n",
    "        text = ''\n",
    "        for w in self.Words:\n",
    "            text += w.Text\n",
    "        return text.strip()\n",
    "\n",
    "    def getReducedSentence(self):\n",
    "        sentenceText = ''\n",
    "        sentenceEnd = self.Words[len(self.Words)-1]\n",
    "        contentWords = filter(lambda w: w.Type == WordType.Content, self.Words)\n",
    "        i = 0\n",
    "        while i < len(contentWords):\n",
    "            w = contentWords[i]\n",
    "            # upper case the first character of the sentence\n",
    "            if i == 0:\n",
    "                li = list(w.Text)\n",
    "                li[0] = li[0].upper()\n",
    "                w.Text = ''.join(li)\n",
    "            sentenceText += w.Text\n",
    "            if i < len(contentWords)-1:\n",
    "                sentenceText += ' '\n",
    "            elif sentenceEnd.Text != w.Text:\n",
    "                sentenceText += sentenceEnd.Text\n",
    "            i = i+1\n",
    "        return sentenceText\n",
    "\n"
   ]
  },
  {
   "cell_type": "code",
   "execution_count": 9,
   "metadata": {
    "collapsed": true
   },
   "outputs": [],
   "source": [
    "class Paragraph:\n",
    "    def __init__(self):\n",
    "        self.Sentences = []"
   ]
  },
  {
   "cell_type": "code",
   "execution_count": 16,
   "metadata": {
    "collapsed": true
   },
   "outputs": [],
   "source": [
    "class Reduction:\n",
    "    functionPunctuation = ' ,-'\n",
    "    contentPunctuation = '.?!\\n'\n",
    "    punctuationCharacters = functionPunctuation+contentPunctuation\n",
    "    sentenceEndCharacters = '.?!'\n",
    "\n",
    "    def isContentPunctuation(self, text):\n",
    "        for c in self.contentPunctuation:\n",
    "            if text.lower() == c.lower():\n",
    "                return True\n",
    "        return False\n",
    "\n",
    "    def isFunctionPunctuation(self, text):\n",
    "        for c in self.functionPunctuation:\n",
    "            if text.lower() == c.lower():\n",
    "                return True\n",
    "        return False\n",
    "\n",
    "    def isFunction(self, text, stopWords):\n",
    "        for w in stopWords:\n",
    "            if text.lower() == w.lower():\n",
    "                return True\n",
    "        return False\n",
    "\n",
    "    def tag(self, sampleWords, stopWords):\n",
    "        taggedWords = []\n",
    "        for w in sampleWords:\n",
    "            tw = Word()\n",
    "            tw.Text = w\n",
    "            if self.isContentPunctuation(w):\n",
    "                tw.Type = WordType.ContentPunctuation\n",
    "            elif self.isFunctionPunctuation(w):\n",
    "                tw.Type = WordType.FunctionPunctuation\n",
    "            elif self.isFunction(w, stopWords):\n",
    "                tw.Type = WordType.Function\n",
    "            else:\n",
    "                tw.Type = WordType.Content\n",
    "            taggedWords.append(tw)\n",
    "        return taggedWords\n",
    "\n",
    "    def tokenize(self, text):\n",
    "        return filter(lambda w: w != '', re.split('([{0}])'.format(self.punctuationCharacters), text))\t\n",
    "\n",
    "    def getWords(self, sentenceText, stopWords):\n",
    "        return self.tag(self.tokenize(sentenceText), stopWords) \n",
    "\n",
    "    def getSentences(self, line, stopWords):\n",
    "        sentences = []\n",
    "        sentenceTexts = filter(lambda w: w.strip() != '', re.split('[{0}]'.format(self.sentenceEndCharacters), line))\t\n",
    "        sentenceEnds = re.findall('[{0}]'.format(self.sentenceEndCharacters), line)\n",
    "        sentenceEnds.reverse()\n",
    "        for t in sentenceTexts:\n",
    "            if len(sentenceEnds) > 0:\n",
    "                t += sentenceEnds.pop()\n",
    "            sentence = Sentence()\n",
    "            sentence.Words = self.getWords(t, stopWords)\n",
    "            sentences.append(sentence)\n",
    "        return sentences\n",
    "\n",
    "    def getParagraphs(self, lines, stopWords):\n",
    "        paragraphs = []\n",
    "        for line in lines:\n",
    "            paragraph = Paragraph()\n",
    "            paragraph.Sentences = self.getSentences(line, stopWords)\n",
    "            paragraphs.append(paragraph)\n",
    "        return paragraphs\n",
    "\n",
    "    def findWeight(self, sentence1, sentence2):\n",
    "        length1 = len(list(filter(lambda w: w.Type == WordType.Content, sentence1.Words)))\n",
    "        length2 = len(list(filter(lambda w: w.Type == WordType.Content, sentence2.Words)))\n",
    "        if length1 < 4 or length2 < 4:\n",
    "            return 0\n",
    "        weight = 0\n",
    "        for w1 in filter(lambda w: w.Type == WordType.Content, sentence1.Words):\n",
    "            for w2 in filter(lambda w: w.Type == WordType.Content, sentence2.Words):\n",
    "                if w1.Text.lower() == w2.Text.lower():\n",
    "                    weight = weight + 1\n",
    "        normalised1 = 0\n",
    "        if length1 > 0:\n",
    "            normalised1 = math.log(length1)\n",
    "        normalised2 = 0\n",
    "        if length2 > 0:\n",
    "            normalised2 = math.log(length2)\n",
    "        norm = normalised1 + normalised2\n",
    "        if norm == 0:\n",
    "            return 0\n",
    "        return weight / float(norm)\n",
    "\n",
    "    def buildGraph(self, sentences):\n",
    "        g = Graph()\n",
    "        for s in sentences:\n",
    "            v = Vertex()\n",
    "            v.Sentence = s\n",
    "            g.Vertices.append(v)\n",
    "        for i in g.Vertices:\n",
    "            for j in g.Vertices:\n",
    "                if i != j:\n",
    "                    w = self.findWeight(i.Sentence, j.Sentence)\n",
    "                    e = Edge()\n",
    "                    e.Vertex1 = i\n",
    "                    e.Vertex2 = j\n",
    "                    e.Weight = w\n",
    "                    g.Edges.append(e)\n",
    "        return g\n",
    "\n",
    "    def sentenceRank(self, paragraphs):\n",
    "        sentences = []\n",
    "        for p in paragraphs:\n",
    "            for s in p.Sentences:\n",
    "                sentences.append(s)\n",
    "        g = self.buildGraph(sentences)\n",
    "        return g.getRankedVertices()\n",
    "\n",
    "    def reduce(self, text, reductionRatio):\n",
    "        stopWordsFile = 'stopWords.txt'\n",
    "        stopWords= open(stopWordsFile).read().splitlines()\n",
    "\n",
    "        lines = text.splitlines()\n",
    "        print(\"lines\", lines)\n",
    "        contentLines = filter(lambda w: w.strip() != '', lines)\n",
    "        print(\"contentLines\", contentLines)\n",
    "\n",
    "        paragraphs = self.getParagraphs(contentLines, stopWords)\n",
    "        print(\"paragraphs\", paragraphs)\n",
    "\n",
    "        rankedSentences = self.sentenceRank(paragraphs)\n",
    "\n",
    "        orderedSentences = []\n",
    "        for p in paragraphs:\n",
    "            for s in p.Sentences:\n",
    "                orderedSentences.append(s)\n",
    "\n",
    "        reducedSentences = []\n",
    "        i = 0\n",
    "        while i < math.trunc(len(rankedSentences) * reductionRatio):\n",
    "            s = rankedSentences[i][0].Sentence\n",
    "            position = orderedSentences.index(s)\n",
    "            reducedSentences.append((s, position))\n",
    "            i = i + 1\n",
    "        reducedSentences = sorted(reducedSentences, key=lambda x: x[1])\n",
    "\n",
    "        reducedText = []\n",
    "        for s,r in reducedSentences:\n",
    "            reducedText.append(s.getFullSentence())\n",
    "        return reducedText\t"
   ]
  },
  {
   "cell_type": "code",
   "execution_count": 17,
   "metadata": {},
   "outputs": [
    {
     "name": "stdout",
     "output_type": "stream",
     "text": [
      "lines [': Commercial exploitation over the past two hundred years drove the great Mysticete whales to near extinction. Variation in the sizes of populations prior to exploitation, minimal population size during exploitation and current population sizes permit analyses of the effects of differing levels of exploitation on species with different biogeographical distributions and life-history characteristics. Dr. Stephen Palumbi at the University of Hawaii will study the genetic population structure of three whale species in this context, the Humpback Whale, the Gray Whale and the Bowhead Whale. The effect of demographic history will be determined by comparing the genetic structure of the three species. Additional studies will be carried out on the Humpback Whale. The humpback has a world-wide distribution, but the Atlantic and Pacific populations of the northern hemisphere appear to be discrete populations, as is the population of the southern hemispheric oceans. Each of these oceanic populations may be further subdivided into smaller isolates, each with its own migratory pattern and somewhat distinct gene pool. This study will provide information on the level of genetic isolation among populations and the levels of gene flow and genealogical relationships among populations. This detailed genetic information will facilitate international policy decisions regarding the conservation and management of these magnificent mammals.']\n",
      "contentLines <filter object at 0x105afef98>\n",
      "paragraphs [<__main__.Paragraph object at 0x105b0e0f0>]\n",
      "['Stephen Palumbi at the University of Hawaii will study the genetic population structure of three whale species in this context, the Humpback Whale, the Gray Whale and the Bowhead Whale.']\n"
     ]
    }
   ],
   "source": [
    "import string\n",
    "reduction = Reduction()\n",
    "filename = 'Part1/awards_1990/awd_1990_00/a9000006.txt'\n",
    "f = open(filename)\n",
    "addTitle = False\n",
    "addTexts = False\n",
    "title = []\n",
    "text = []\n",
    "for word in f.read().split():\n",
    "    if (word == \"Title\"):\n",
    "        addTitle = True\n",
    "        continue\n",
    "\n",
    "    if (word == \"\\n\"):\n",
    "        addTitle = False\n",
    "\n",
    "    if (addTexts == True and word == \"\\n\"):\n",
    "        addTexts = False\n",
    "        break\n",
    "\n",
    "\n",
    "    if (word == \"Abstract\"):\n",
    "        addTexts = True\n",
    "        continue\n",
    "\n",
    "    if(addTitle == True):\n",
    "        title.append(word)\n",
    "\n",
    "    if(addTexts == True):\n",
    "        text.append(word)\n",
    "\n",
    "\n",
    "title = ' '.join(title)\n",
    "text =' '.join(text)\n",
    "\n",
    "reduction_ratio = 0.1\n",
    "reduced_text = reduction.reduce(text, reduction_ratio)\n",
    "\n",
    "#output = open('output.txt')\n",
    "print(reduced_text)\n"
   ]
  },
  {
   "cell_type": "code",
   "execution_count": 12,
   "metadata": {},
   "outputs": [
    {
     "name": "stdout",
     "output_type": "stream",
     "text": [
      ": Commercial exploitation over the past two hundred years drove the great Mysticete whales to near extinction. Variation in the sizes of populations prior to exploitation, minimal population size during exploitation and current population sizes permit analyses of the effects of differing levels of exploitation on species with different biogeographical distributions and life-history characteristics. Dr. Stephen Palumbi at the University of Hawaii will study the genetic population structure of three whale species in this context, the Humpback Whale, the Gray Whale and the Bowhead Whale. The effect of demographic history will be determined by comparing the genetic structure of the three species. Additional studies will be carried out on the Humpback Whale. The humpback has a world-wide distribution, but the Atlantic and Pacific populations of the northern hemisphere appear to be discrete populations, as is the population of the southern hemispheric oceans. Each of these oceanic populations may be further subdivided into smaller isolates, each with its own migratory pattern and somewhat distinct gene pool. This study will provide information on the level of genetic isolation among populations and the levels of gene flow and genealogical relationships among populations. This detailed genetic information will facilitate international policy decisions regarding the conservation and management of these magnificent mammals.\n"
     ]
    }
   ],
   "source": [
    "print(text)"
   ]
  },
  {
   "cell_type": "code",
   "execution_count": null,
   "metadata": {
    "collapsed": true
   },
   "outputs": [],
   "source": []
  }
 ],
 "metadata": {
  "kernelspec": {
   "display_name": "Python 3",
   "language": "python",
   "name": "python3"
  },
  "language_info": {
   "codemirror_mode": {
    "name": "ipython",
    "version": 3
   },
   "file_extension": ".py",
   "mimetype": "text/x-python",
   "name": "python",
   "nbconvert_exporter": "python",
   "pygments_lexer": "ipython3",
   "version": "3.6.3"
  }
 },
 "nbformat": 4,
 "nbformat_minor": 2
}
