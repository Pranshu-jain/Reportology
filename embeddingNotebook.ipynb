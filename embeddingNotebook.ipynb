{
 "cells": [
  {
   "cell_type": "code",
   "execution_count": 54,
   "metadata": {
    "collapsed": true
   },
   "outputs": [],
   "source": [
    "import numpy as np\n",
    "import pickle\n",
    "import string "
   ]
  },
  {
   "cell_type": "code",
   "execution_count": 55,
   "metadata": {
    "collapsed": true
   },
   "outputs": [],
   "source": [
    "def transform_input_text(self, texts):\n",
    "    temp = []\n",
    "    for line in texts:\n",
    "        x = []\n",
    "        for word in line.lower().split(' '):\n",
    "            wid = 1\n",
    "            if word in self.input_word2idx:\n",
    "                wid = self.input_word2idx[word]\n",
    "            x.append(wid)\n",
    "            if len(x) >= self.max_input_seq_length:\n",
    "                break\n",
    "        temp.append(x)\n",
    "    temp = pad_sequences(temp, maxlen=self.max_input_seq_length)\n",
    "\n",
    "    print(temp.shape)\n",
    "    return temp"
   ]
  },
  {
   "cell_type": "code",
   "execution_count": 56,
   "metadata": {
    "collapsed": true
   },
   "outputs": [],
   "source": [
    "import numpy as np\n",
    "import os\n",
    "\n",
    "def split():\n",
    "    titles = []\n",
    "    texts = []\n",
    "    root = 'Part1'\n",
    "    stop = 0\n",
    "    for p1 in os.listdir(root)[1:]:\n",
    "        if(stop == 1):\n",
    "            break\n",
    "        dir1 = root + '/' + str(p1)\n",
    "        print(dir1)\n",
    "        for p2 in os.listdir(dir1)[1:]:\n",
    "            if(stop == 1):\n",
    "                break\n",
    "            dir2 = dir1 + '/' + str(p2)\n",
    "            print(dir2)\n",
    "            for filename in os.listdir(dir2)[1:]:\n",
    "                if (filename == 'a9302502.txt'):\n",
    "                    stop = 1\n",
    "                    break\n",
    "                print(dir2 + '/' + filename)\n",
    "                #print(iter)\n",
    "                #iter += 1\n",
    "                #print(dirs[1:])\n",
    "                #filename = 'Part1/awards_1990/awd_1990_00/a9000006.txt'\n",
    "                f = open(dir2 + '/' + filename)\n",
    "                addTitle = False\n",
    "                addTexts = False\n",
    "                title = []\n",
    "                text = []\n",
    "                for word in f.read().split():\n",
    "                    if (word == \"Title\"):\n",
    "                        addTitle = True\n",
    "                        continue\n",
    "\n",
    "                    if (word == \"\\n\"):\n",
    "                        addTitle = False\n",
    "                    if (word == \"Type\"):\n",
    "                        addTitle = False\n",
    "                        \n",
    "#                     if (addTexts == True and word == \"\\n\"):\n",
    "#                         addTexts = False\n",
    "#                         break\n",
    "                        \n",
    "\n",
    "                    if (word == \"Abstract\"):\n",
    "                        addTexts = True\n",
    "                        continue\n",
    "\n",
    "                    if(addTitle == True):\n",
    "                        title.append(word)\n",
    "\n",
    "                    if(addTexts == True):\n",
    "                        text.append(word)\n",
    "\n",
    "                for i in range(len(title)):\n",
    "                    s = title[i]\n",
    "                    table = str.maketrans({key: None for key in string.punctuation})\n",
    "                    new_s = s.translate(table)\n",
    "                    title[i] = new_s\n",
    "                for i in range(len(text)):\n",
    "                    s = text[i]\n",
    "                    table = str.maketrans({key: None for key in string.punctuation})\n",
    "                    new_s = s.translate(table)\n",
    "                    text[i] = new_s\n",
    "\n",
    "                title = ' '.join(title)\n",
    "                text =' '.join(text)\n",
    "                titles.append(title)\n",
    "                texts.append(text)\n",
    "\n",
    "#     f=open(\"titles.txt\", 'w')\n",
    "#     for i in titles:\n",
    "#         f.write(i)\n",
    "#         f.write(' ')\n",
    "\n",
    "#     t=open(\"texts.txt\", 'w')\n",
    "#     for i in texts:\n",
    "#         t.write(i)\n",
    "#         t.write(' ')\n",
    "\n",
    "#     f.close()\n",
    "#     t.close()\n",
    "    return titles, texts\n"
   ]
  },
  {
   "cell_type": "code",
   "execution_count": 57,
   "metadata": {
    "collapsed": true
   },
   "outputs": [],
   "source": [
    "import numpy as np\n",
    "import os\n",
    "\n",
    "def split():\n",
    "    titles = []\n",
    "    texts = []\n",
    "    root = 'Part1'\n",
    "    \n",
    "    #dirr = 'Part1/awards_1990/awd_1990_00/'\n",
    "    dirs = os.listdir('Part1/awards_1990/awd_1990_00/')\n",
    "\n",
    "    for filename in dirs[1:]:\n",
    "    #iter = 0\n",
    "    #print(dirs[1])\n",
    "            \n",
    "                #print(iter)\n",
    "                #iter += 1\n",
    "                #print(dirs[1:])\n",
    "                #filename = 'Part1/awards_1990/awd_1990_00/a9000006.txt'\n",
    "        f = open('Part1/awards_1990/awd_1990_00/' + str(filename))\n",
    "        addTitle = False\n",
    "        addTexts = False\n",
    "        title = []\n",
    "        text = []\n",
    "        for word in f.read().split():\n",
    "            if (word == \"Title\"):\n",
    "                addTitle = True\n",
    "                continue\n",
    "\n",
    "            if (word == \"Type\"):\n",
    "                addTitle = False\n",
    "\n",
    "#             if (addTexts == True and word == \"\\n\"):\n",
    "#                 addTexts = False\n",
    "#                 break\n",
    "\n",
    "\n",
    "            if (word == \"Abstract\"):\n",
    "                addTexts = True\n",
    "                continue\n",
    "\n",
    "            if(addTitle == True):\n",
    "                title.append(word)\n",
    "\n",
    "            if(addTexts == True):\n",
    "                text.append(word)\n",
    "\n",
    "        for i in range(len(title)):\n",
    "            s = title[i]\n",
    "            table = str.maketrans({key: None for key in string.punctuation})\n",
    "            new_s = s.translate(table)\n",
    "            title[i] = new_s\n",
    "        for i in range(len(text)):\n",
    "            s = text[i]\n",
    "            table = str.maketrans({key: None for key in string.punctuation})\n",
    "            new_s = s.translate(table)\n",
    "            text[i] = new_s\n",
    "\n",
    "        title = ' '.join(title)\n",
    "        text =' '.join(text)\n",
    "        titles.append(title)\n",
    "        texts.append(text)\n",
    "\n",
    "#     f=open(\"titles.txt\", 'w')\n",
    "#     for i in titles:\n",
    "#         f.write(i)\n",
    "#         f.write(' ')\n",
    "\n",
    "#     t=open(\"texts.txt\", 'w')\n",
    "#     for i in texts:\n",
    "#         t.write(i)\n",
    "#         t.write(' ')\n",
    "\n",
    "#     f.close()\n",
    "#     t.close()\n",
    "    return titles, texts\n"
   ]
  },
  {
   "cell_type": "code",
   "execution_count": 58,
   "metadata": {},
   "outputs": [],
   "source": [
    "if __name__ == '__main__':\n",
    "    titles, texts = split()\n"
   ]
  },
  {
   "cell_type": "code",
   "execution_count": 59,
   "metadata": {
    "scrolled": true
   },
   "outputs": [
    {
     "name": "stdout",
     "output_type": "stream",
     "text": [
      "379\n"
     ]
    }
   ],
   "source": [
    "print(len(titles))"
   ]
  },
  {
   "cell_type": "code",
   "execution_count": 60,
   "metadata": {
    "collapsed": true
   },
   "outputs": [],
   "source": [
    "from collections import Counter\n",
    "from itertools import chain\n",
    "def get_vocab(lst):\n",
    "    vocabcount = Counter(w for txt in lst for w in txt.split())\n",
    "    vocab = map(lambda x: x[0], sorted(vocabcount.items(), key=lambda x: -x[1]))\n",
    "    return list(vocab), vocabcount"
   ]
  },
  {
   "cell_type": "code",
   "execution_count": 61,
   "metadata": {},
   "outputs": [
    {
     "data": {
      "text/plain": [
       "' RFLP Patterns as a Measure of Diversity in Small Populations'"
      ]
     },
     "execution_count": 61,
     "metadata": {},
     "output_type": "execute_result"
    }
   ],
   "source": [
    "titles[1]"
   ]
  },
  {
   "cell_type": "code",
   "execution_count": 62,
   "metadata": {
    "collapsed": true
   },
   "outputs": [],
   "source": [
    "vocab, vocabcount = get_vocab(titles+texts)"
   ]
  },
  {
   "cell_type": "code",
   "execution_count": 63,
   "metadata": {},
   "outputs": [
    {
     "name": "stdout",
     "output_type": "stream",
     "text": [
      "['the', 'of', 'and', 'to', 'in']\n",
      "9073\n"
     ]
    }
   ],
   "source": [
    "print(vocab[:5])\n",
    "print(len(vocab))"
   ]
  },
  {
   "cell_type": "code",
   "execution_count": 64,
   "metadata": {
    "collapsed": true,
    "scrolled": true
   },
   "outputs": [],
   "source": [
    "import string \n",
    "for i in range(len(vocab)):\n",
    "    s = vocab[i]\n",
    "    table = str.maketrans({key: None for key in string.punctuation})\n",
    "    new_s = s.translate(table)\n",
    "    vocab[i] = new_s"
   ]
  },
  {
   "cell_type": "code",
   "execution_count": 65,
   "metadata": {},
   "outputs": [
    {
     "data": {
      "image/png": "[encoded data removed]",
      "text/plain": [
       "<matplotlib.figure.Figure at 0x1074f3ef0>"
      ]
     },
     "metadata": {},
     "output_type": "display_data"
    }
   ],
   "source": [
    "import matplotlib.pyplot as plt\n",
    "%matplotlib inline\n",
    "plt.plot([vocabcount[w] for w in vocab]);\n",
    "plt.gca().set_xscale(\"log\", nonposx='clip')\n",
    "plt.gca().set_yscale(\"log\", nonposy='clip')\n",
    "plt.title('word distribution in headlines and discription')\n",
    "plt.xlabel('rank')\n",
    "plt.ylabel('total appearances');"
   ]
  },
  {
   "cell_type": "code",
   "execution_count": 66,
   "metadata": {
    "collapsed": true
   },
   "outputs": [],
   "source": [
    "empty = 0 # RNN mask of no data\n",
    "eos = 1  # end of sentence\n",
    "start_idx = eos+1 # first real word\n",
    "\n",
    "def get_idx(vocab, vocabcount):\n",
    "    word2idx = dict((word, idx+start_idx) for idx,word in enumerate(vocab))\n",
    "    word2idx['<empty>'] = empty\n",
    "    word2idx['<eos>'] = eos\n",
    "    \n",
    "    idx2word = dict((idx,word) for word,idx in word2idx.items())\n",
    "\n",
    "    return word2idx, idx2word"
   ]
  },
  {
   "cell_type": "code",
   "execution_count": 67,
   "metadata": {
    "collapsed": true
   },
   "outputs": [],
   "source": [
    "word2idx, idx2word = get_idx(vocab, vocabcount)"
   ]
  },
  {
   "cell_type": "markdown",
   "metadata": {},
   "source": [
    "Read Glove"
   ]
  },
  {
   "cell_type": "code",
   "execution_count": 68,
   "metadata": {
    "collapsed": true
   },
   "outputs": [],
   "source": [
    "FN  =  'vocabulary-embedding'\n",
    "seed=42\n",
    "vocab_size = 40000\n",
    "embedding_dim = 100\n",
    "lower = False # dont lower case the text"
   ]
  },
  {
   "cell_type": "code",
   "execution_count": 69,
   "metadata": {},
   "outputs": [
    {
     "name": "stdout",
     "output_type": "stream",
     "text": [
      "unzip:  cannot find or open /Users/michellezhao/.keras/datasets//Users/michellezhao/.keras/datasets/glove.6B.zip, /Users/michellezhao/.keras/datasets//Users/michellezhao/.keras/datasets/glove.6B.zip.zip or /Users/michellezhao/.keras/datasets//Users/michellezhao/.keras/datasets/glove.6B.zip.ZIP.\r\n"
     ]
    }
   ],
   "source": [
    "fname = 'glove.6B.%dd.txt'%embedding_dim\n",
    "from keras.utils.data_utils import get_file\n",
    "import os\n",
    "datadir_base = os.path.expanduser(os.path.join('~', '.keras'))\n",
    "if not os.access(datadir_base, os.W_OK):\n",
    "    datadir_base = os.path.join('/tmp', '.keras')\n",
    "datadir = os.path.join(datadir_base, 'datasets')\n",
    "glove_name = os.path.join(datadir, fname)\n",
    "if not os.path.exists(glove_name):\n",
    "    path = 'glove.6B.zip'\n",
    "    path = get_file(path, origin=\"http://nlp.stanford.edu/data/glove.6B.zip\")\n",
    "    !unzip {datadir}/{path}"
   ]
  },
  {
   "cell_type": "code",
   "execution_count": 70,
   "metadata": {
    "collapsed": true
   },
   "outputs": [],
   "source": [
    "import zipfile\n",
    "zip = zipfile.ZipFile(path)\n",
    "zip.extractall()"
   ]
  },
  {
   "cell_type": "code",
   "execution_count": 71,
   "metadata": {
    "collapsed": true
   },
   "outputs": [],
   "source": [
    "datadir = ''\n",
    "glove_name = os.path.join(datadir, fname)\n",
    "glove_n_symbols = sum(1 for line in open(glove_name))"
   ]
  },
  {
   "cell_type": "code",
   "execution_count": 74,
   "metadata": {},
   "outputs": [
    {
     "data": {
      "text/plain": [
       "400000"
      ]
     },
     "execution_count": 74,
     "metadata": {},
     "output_type": "execute_result"
    }
   ],
   "source": [
    "glove_n_symbols"
   ]
  },
  {
   "cell_type": "code",
   "execution_count": 75,
   "metadata": {},
   "outputs": [],
   "source": [
    "import numpy as np\n",
    "glove_index_dict = {}\n",
    "glove_embedding_weights = np.empty((glove_n_symbols, embedding_dim))\n",
    "globale_scale=.1\n",
    "with open(glove_name, 'r') as fp:\n",
    "    i = 0\n",
    "    for l in fp:\n",
    "        l = l.strip().split()\n",
    "        w = l[0]\n",
    "        glove_index_dict[w] = i\n",
    "        glove_embedding_weights[i,:] = list(map(float,l[1:]))\n",
    "        i += 1\n",
    "glove_embedding_weights *= globale_scale"
   ]
  },
  {
   "cell_type": "code",
   "execution_count": 76,
   "metadata": {},
   "outputs": [
    {
     "data": {
      "text/plain": [
       "0.040815727600190289"
      ]
     },
     "execution_count": 76,
     "metadata": {},
     "output_type": "execute_result"
    }
   ],
   "source": [
    "glove_embedding_weights.std()"
   ]
  },
  {
   "cell_type": "code",
   "execution_count": 77,
   "metadata": {
    "collapsed": true
   },
   "outputs": [],
   "source": [
    "for w, i in  glove_index_dict.items():\n",
    "    w = w.lower()\n",
    "    if w not in glove_index_dict:\n",
    "        glove_index_dict[w] = i"
   ]
  },
  {
   "cell_type": "code",
   "execution_count": 78,
   "metadata": {},
   "outputs": [
    {
     "name": "stdout",
     "output_type": "stream",
     "text": [
      "random-embedding/glove scale 0.0706949139514 std 0.0408138249575\n",
      "number of tokens, in small vocab, found in glove and copied to embedding 7960 0.199\n"
     ]
    }
   ],
   "source": [
    "# generate random embedding with same scale as glove\n",
    "np.random.seed(seed)\n",
    "shape = (vocab_size, embedding_dim)\n",
    "scale = glove_embedding_weights.std()*np.sqrt(12)/2 # uniform and not normal\n",
    "embedding = np.random.uniform(low=-scale, high=scale, size=shape)\n",
    "print ('random-embedding/glove scale', scale, 'std', embedding.std())\n",
    "\n",
    "# copy from glove weights of words that appear in our short vocabulary (idx2word)\n",
    "c = 0\n",
    "for i in range(vocab_size):\n",
    "    #print(i)\n",
    "    if(i not in idx2word):\n",
    "        continue\n",
    "    w = idx2word[i]\n",
    "    #print(w)\n",
    "    g = glove_index_dict.get(w, glove_index_dict.get(w.lower()))\n",
    "    if g is None and w.startswith('#'): # glove has no hastags (I think...)\n",
    "        w = w[1:]\n",
    "        g = glove_index_dict.get(w, glove_index_dict.get(w.lower()))\n",
    "    if g is not None:\n",
    "        embedding[i,:] = glove_embedding_weights[g,:]\n",
    "        c+=1\n",
    "print ('number of tokens, in small vocab, found in glove and copied to embedding', c,c/float(vocab_size))\n"
   ]
  },
  {
   "cell_type": "code",
   "execution_count": 79,
   "metadata": {
    "collapsed": true
   },
   "outputs": [],
   "source": [
    "glove_thr = 0.5\n",
    "word2glove = {}\n",
    "for w in word2idx:\n",
    "    if w in glove_index_dict:\n",
    "        g = w\n",
    "    elif w.lower() in glove_index_dict:\n",
    "        g = w.lower()\n",
    "    elif w.startswith('#') and w[1:] in glove_index_dict:\n",
    "        g = w[1:]\n",
    "    elif w.startswith('#') and w[1:].lower() in glove_index_dict:\n",
    "        g = w[1:].lower()\n",
    "    else:\n",
    "        continue\n",
    "    word2glove[w] = g"
   ]
  },
  {
   "cell_type": "code",
   "execution_count": 80,
   "metadata": {},
   "outputs": [
    {
     "name": "stdout",
     "output_type": "stream",
     "text": [
      "# of glove substitutes found 0\n"
     ]
    }
   ],
   "source": [
    "normed_embedding = embedding/np.array([np.sqrt(np.dot(gweight,gweight)) for gweight in embedding])[:,None]\n",
    "\n",
    "nb_unknown_words = 100\n",
    "\n",
    "glove_match = []\n",
    "for w,idx in word2idx.items():\n",
    "    if idx >= vocab_size-nb_unknown_words and w.isalpha() and w in word2glove:\n",
    "        gidx = glove_index_dict[word2glove[w]]\n",
    "        gweight = glove_embedding_weights[gidx,:].copy()\n",
    "        # find row in embedding that has the highest cos score with gweight\n",
    "        gweight /= np.sqrt(np.dot(gweight,gweight))\n",
    "        score = np.dot(normed_embedding[:vocab_size-nb_unknown_words], gweight)\n",
    "        while True:\n",
    "            embedding_idx = score.argmax()\n",
    "            s = score[embedding_idx]\n",
    "            if s < glove_thr:\n",
    "                break\n",
    "            if idx2word[embedding_idx] in word2glove :\n",
    "                glove_match.append((w, embedding_idx, s)) \n",
    "                break\n",
    "            score[embedding_idx] = -1\n",
    "glove_match.sort(key = lambda x: -x[2])\n",
    "print ('# of glove substitutes found', len(glove_match))"
   ]
  },
  {
   "cell_type": "code",
   "execution_count": 81,
   "metadata": {},
   "outputs": [],
   "source": [
    "for orig, sub, score in glove_match[-10:]:\n",
    "    print (score, orig,'=>', idx2word[sub])"
   ]
  },
  {
   "cell_type": "code",
   "execution_count": 82,
   "metadata": {
    "collapsed": true
   },
   "outputs": [],
   "source": [
    "glove_idx2idx = dict((word2idx[w],embedding_idx) for  w, embedding_idx, _ in glove_match)"
   ]
  },
  {
   "cell_type": "code",
   "execution_count": 83,
   "metadata": {},
   "outputs": [
    {
     "data": {
      "text/plain": [
       "379"
      ]
     },
     "execution_count": 83,
     "metadata": {},
     "output_type": "execute_result"
    }
   ],
   "source": [
    "Y = [[word2idx[token] for token in title.split()] for title in titles]\n",
    "len(Y)"
   ]
  },
  {
   "cell_type": "code",
   "execution_count": 84,
   "metadata": {},
   "outputs": [
    {
     "data": {
      "image/png": "[encoded data removed]",
      "text/plain": [
       "<matplotlib.figure.Figure at 0x105acc710>"
      ]
     },
     "metadata": {},
     "output_type": "display_data"
    }
   ],
   "source": [
    "plt.hist(list(map(len,Y)),bins=50);"
   ]
  },
  {
   "cell_type": "code",
   "execution_count": 85,
   "metadata": {},
   "outputs": [
    {
     "data": {
      "text/plain": [
       "379"
      ]
     },
     "execution_count": 85,
     "metadata": {},
     "output_type": "execute_result"
    }
   ],
   "source": [
    "X = [[word2idx[token] for token in text.split()] for text in texts]\n",
    "len(X)"
   ]
  },
  {
   "cell_type": "code",
   "execution_count": 86,
   "metadata": {},
   "outputs": [
    {
     "data": {
      "image/png": "[encoded data removed]",
      "text/plain": [
       "<matplotlib.figure.Figure at 0x105b6e390>"
      ]
     },
     "metadata": {},
     "output_type": "display_data"
    }
   ],
   "source": [
    "plt.hist(list(map(len,X)),bins=50);"
   ]
  },
  {
   "cell_type": "code",
   "execution_count": 87,
   "metadata": {},
   "outputs": [
    {
     "name": "stdout",
     "output_type": "stream",
     "text": [
      "[[-0.01773875  0.06372642  0.03280158 ..., -0.01024496 -0.06710091\n",
      "  -0.05544016]\n",
      " [-0.06625115  0.01928704 -0.02624818 ...,  0.05614735  0.05473008\n",
      "   0.03957156]\n",
      " [-0.0038194  -0.024487    0.072812   ..., -0.01459     0.08278     0.027062  ]\n",
      " ..., \n",
      " [ 0.06982313 -0.02670071 -0.03871925 ..., -0.00267477 -0.01187393\n",
      "  -0.05748738]\n",
      " [ 0.04286668 -0.0481842  -0.01529906 ...,  0.0564503   0.03692646\n",
      "   0.03450374]\n",
      " [ 0.01269256  0.03835368 -0.04946906 ...,  0.01590619 -0.05742016\n",
      "   0.03449618]]\n"
     ]
    }
   ],
   "source": [
    "print(embedding)"
   ]
  },
  {
   "cell_type": "code",
   "execution_count": 88,
   "metadata": {
    "collapsed": true
   },
   "outputs": [],
   "source": [
    "with open('%s.pkl'%FN,\"wb\") as fp:\n",
    "    pickle.dump((embedding, idx2word, word2idx, glove_idx2idx),fp,-1)\n",
    "    \n",
    "with open('%s.data.pkl'%FN,\"wb\") as fp:\n",
    "    pickle.dump((X,Y),fp,-1)"
   ]
  },
  {
   "cell_type": "code",
   "execution_count": null,
   "metadata": {
    "collapsed": true
   },
   "outputs": [],
   "source": []
  },
  {
   "cell_type": "code",
   "execution_count": null,
   "metadata": {
    "collapsed": true
   },
   "outputs": [],
   "source": []
  },
  {
   "cell_type": "code",
   "execution_count": null,
   "metadata": {
    "collapsed": true
   },
   "outputs": [],
   "source": []
  }
 ],
 "metadata": {
  "kernelspec": {
   "display_name": "Python 3",
   "language": "python",
   "name": "python3"
  },
  "language_info": {
   "codemirror_mode": {
    "name": "ipython",
    "version": 3
   },
   "file_extension": ".py",
   "mimetype": "text/x-python",
   "name": "python",
   "nbconvert_exporter": "python",
   "pygments_lexer": "ipython3",
   "version": "3.6.3"
  }
 },
 "nbformat": 4,
 "nbformat_minor": 2
}
